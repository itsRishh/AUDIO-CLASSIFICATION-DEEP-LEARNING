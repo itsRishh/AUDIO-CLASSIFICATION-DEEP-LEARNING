{
 "cells": [
  {
   "cell_type": "code",
   "execution_count": null,
   "metadata": {},
   "outputs": [],
   "source": [
    "!pip install opencv-python"
   ]
  },
  {
   "cell_type": "code",
   "execution_count": 5,
   "metadata": {},
   "outputs": [],
   "source": [
    "import cv2\n",
    "import os \n",
    "import pandas as pd\n",
    "import numpy as np\n",
    "import librosa\n",
    "import librosa.display \n",
    "import pylab\n",
    "import matplotlib.pyplot as plt\n",
    "from scipy.io import wavfile\n",
    "from scipy.signal import resample"
   ]
  },
  {
   "cell_type": "code",
   "execution_count": 6,
   "metadata": {},
   "outputs": [],
   "source": [
    "folder_path = \"./dict_spandan\""
   ]
  },
  {
   "cell_type": "code",
   "execution_count": 7,
   "metadata": {},
   "outputs": [
    {
     "data": {
      "text/plain": [
       "['dict_new_1.csv',\n",
       " 'dict_new_p10_1.csv',\n",
       " 'dict_new_p11_1.csv',\n",
       " 'dict_new_p12_1.csv',\n",
       " 'dict_new_p14_1.csv',\n",
       " 'dict_new_p15_1.csv',\n",
       " 'dict_new_p18_1.csv',\n",
       " 'dict_new_p3_1.csv',\n",
       " 'dict_new_p4_1.csv',\n",
       " 'dict_new_p4_2.csv',\n",
       " 'dict_new_p5_1.csv',\n",
       " 'dict_new_p5_2.csv',\n",
       " 'dict_new_p6_1.csv',\n",
       " 'dict_new_p7_1.csv',\n",
       " 'dict_new_p7_2.csv',\n",
       " 'dict_new_p8_1.csv',\n",
       " 'dict_new_p8_2.csv',\n",
       " 'dict_new_p9_1.csv']"
      ]
     },
     "execution_count": 7,
     "metadata": {},
     "output_type": "execute_result"
    }
   ],
   "source": [
    "csv_files = [files for files in os.listdir(folder_path) if files.endswith(\".csv\")]\n",
    "csv_files"
   ]
  },
  {
   "attachments": {},
   "cell_type": "markdown",
   "metadata": {},
   "source": [
    "## function to iterate over CSVs"
   ]
  },
  {
   "cell_type": "code",
   "execution_count": 8,
   "metadata": {},
   "outputs": [],
   "source": [
    "def csv_gen(folder_path):\n",
    "    for filename in os.listdir(folder_path):\n",
    "        if filename.endswith(\".csv\"):\n",
    "            file_path = os.path.join(folder_path, filename)\n",
    "            df = pd.read_csv(file_path)\n",
    "\n",
    "            yield filename, df;"
   ]
  },
  {
   "cell_type": "code",
   "execution_count": null,
   "metadata": {},
   "outputs": [],
   "source": [
    "for filename, df in csv_gen(folder_path):\n",
    "    # print(f'processed file: ', {filename})\n",
    "    \n"
   ]
  },
  {
   "cell_type": "code",
   "execution_count": null,
   "metadata": {},
   "outputs": [],
   "source": [
    "i = \"0\"\n",
    "i = i + \"1\";\n",
    "print(i)\n"
   ]
  },
  {
   "attachments": {},
   "cell_type": "markdown",
   "metadata": {},
   "source": [
    "## audio creation and saving into the folder"
   ]
  },
  {
   "cell_type": "code",
   "execution_count": 9,
   "metadata": {},
   "outputs": [],
   "source": [
    "# df = pd.read_csv(\"./dict_spandan/dict_new_p12_1.csv\")\n",
    "i = 1\n",
    "audio_path = \"./Audios/\"\n",
    "for filename in os.listdir(folder_path):\n",
    "    if filename.endswith(\".csv\"):\n",
    "        file_path = os.path.join(folder_path, filename)\n",
    "        df = pd.read_csv(file_path)\n",
    "        # print(f'processed file: ', {filename})\n",
    "\n",
    "        data_resampled = resample(df['Frequency'].astype(int), 44100)\n",
    "        wavfile.write(audio_path + \"freq\" + str(i) + \".wav\", 44100, data_resampled)\n",
    "    i = i + 1;\n",
    "# frequency = df['Frequency'].values.astype(float)\n",
    "# sampling_rate = 22050;"
   ]
  },
  {
   "attachments": {},
   "cell_type": "markdown",
   "metadata": {},
   "source": [
    "# MELgraph creation"
   ]
  },
  {
   "cell_type": "code",
   "execution_count": 10,
   "metadata": {},
   "outputs": [],
   "source": [
    "audiof_path = \"./Audios/\"\n",
    "save_path = './images/'\n",
    "i = 1\n",
    "for audios in os.listdir(audiof_path): \n",
    "    aud_path = os.path.join(audiof_path, audios)\n",
    "    sig, fs = librosa.load(aud_path)   \n",
    "    pylab.axis('off') # no axis\n",
    "    pylab.axes([0., 0., 1., 1.], frameon=False, xticks=[], yticks=[]) # Remove the white edge\n",
    "    S = librosa.feature.melspectrogram(y=sig, sr=fs)\n",
    "    librosa.display.specshow(librosa.power_to_db(S, ref=np.max))\n",
    "    pylab.axis('off')\n",
    "    pylab.margins(0,0)\n",
    "    pylab.gca().xaxis.set_major_locator(plt.NullLocator())\n",
    "    pylab.gca().yaxis.set_major_locator(plt.NullLocator())\n",
    "    # name = songname.split(\".\")[0]\n",
    "    pylab.savefig(save_path + \"mel\" + str(i) + \".png\", bbox_inches=None, pad_inches=0)\n",
    "    pylab.close()\n",
    "    i = i + 1 "
   ]
  },
  {
   "cell_type": "code",
   "execution_count": 12,
   "metadata": {},
   "outputs": [],
   "source": [
    "def load_imgs(path):\n",
    "    dataset = []\n",
    "    for i in range(1, 18):\n",
    "        imgname = \"mel\" + str(i) + \".png\"\n",
    "        img = cv2.imread(path + imgname, 1)\n",
    "        img = cv2.cvtColor(img, cv2.COLOR_BGR2RGB)\n",
    "        if img is not None:\n",
    "            dataset.append(img)\n",
    "    dataset = np.array(dataset)\n",
    "    return dataset"
   ]
  },
  {
   "cell_type": "code",
   "execution_count": 14,
   "metadata": {},
   "outputs": [
    {
     "name": "stdout",
     "output_type": "stream",
     "text": [
      "(17, 480, 640, 3)\n"
     ]
    }
   ],
   "source": [
    "path = './images/'\n",
    "data_set = load_imgs(path)\n",
    "print(data_set.shape)"
   ]
  },
  {
   "cell_type": "code",
   "execution_count": 16,
   "metadata": {},
   "outputs": [
    {
     "ename": "ValueError",
     "evalue": "setting an array element with a sequence. The requested array has an inhomogeneous shape after 1 dimensions. The detected shape was (340,) + inhomogeneous part.",
     "output_type": "error",
     "traceback": [
      "\u001b[1;31m---------------------------------------------------------------------------\u001b[0m",
      "\u001b[1;31mValueError\u001b[0m                                Traceback (most recent call last)",
      "Cell \u001b[1;32mIn[16], line 12\u001b[0m\n\u001b[0;32m      9\u001b[0m         \u001b[39mfor\u001b[39;00m c \u001b[39min\u001b[39;00m \u001b[39mrange\u001b[39m(\u001b[39m0\u001b[39m, h, block_size): \u001b[39m# 288\u001b[39;00m\n\u001b[0;32m     10\u001b[0m             block_data_set\u001b[39m.\u001b[39mappend(img[r:r\u001b[39m+\u001b[39mblock_size,c:c\u001b[39m+\u001b[39mblock_size]) \n\u001b[1;32m---> 12\u001b[0m block_data_set \u001b[39m=\u001b[39m np\u001b[39m.\u001b[39;49marray(block_data_set)\n\u001b[0;32m     13\u001b[0m \u001b[39mprint\u001b[39m(block_data_set\u001b[39m.\u001b[39mshape)\n",
      "\u001b[1;31mValueError\u001b[0m: setting an array element with a sequence. The requested array has an inhomogeneous shape after 1 dimensions. The detected shape was (340,) + inhomogeneous part."
     ]
    }
   ],
   "source": [
    "# Define the window size\n",
    "block_size = 144\n",
    "\n",
    "w, h = data_set[0].shape[0], data_set[0].shape[1]\n",
    "block_data_set = []\n",
    "\n",
    "for img in data_set:\n",
    "    for r in range(0, w, block_size): # 144\n",
    "        for c in range(0, h, block_size): # 288\n",
    "            block_data_set.append(img[r:r+block_size,c:c+block_size]) \n",
    "\n",
    "block_data_set = np.array(block_data_set)\n",
    "print(block_data_set.shape)"
   ]
  }
 ],
 "metadata": {
  "kernelspec": {
   "display_name": "Python 3",
   "language": "python",
   "name": "python3"
  },
  "language_info": {
   "codemirror_mode": {
    "name": "ipython",
    "version": 3
   },
   "file_extension": ".py",
   "mimetype": "text/x-python",
   "name": "python",
   "nbconvert_exporter": "python",
   "pygments_lexer": "ipython3",
   "version": "3.11.8"
  },
  "orig_nbformat": 4,
  "vscode": {
   "interpreter": {
    "hash": "1f6a27bcfbe46a917dbd192f4a82657396dda26148bae633192e8d28c70725f1"
   }
  }
 },
 "nbformat": 4,
 "nbformat_minor": 2
}
